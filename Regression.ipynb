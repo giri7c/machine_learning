{
 "cells": [
  {
   "cell_type": "markdown",
   "metadata": {},
   "source": [
    "## Linear regression for missing values"
   ]
  },
  {
   "cell_type": "markdown",
   "metadata": {},
   "source": [
    "### Overview\n",
    "\n",
    "In this Notebook, the main objective is to use a linear regression model to make predictions that you can use to fill in missing values in a dataset. The procedure is the same, however, you are using one of the features as the \"target\" instead of what you may normally think of as the target for that particular dataset. By the end of this lab you should have:\n",
    "\n",
    "- gained experience manipulating dataframes with Pandas\n",
    "- an initial understanding of how missing data is represented\n",
    "- applied a linear regression model to fill in missing data   "
   ]
  },
  {
   "cell_type": "markdown",
   "metadata": {},
   "source": [
    "### Instructions\n",
    "\n",
    "Please execute the following steps using a mixture of base python, NumPy, sklearn, Pandas, and/or matplotlib:\n",
    "\n",
    "1. Find a dataset\n",
    "    - I would suggest looking [here](https://archive.ics.uci.edu/ml/datasets.php) for **regression** datasets\n",
    "    - The dataset for this lab does not have to be complicated, but it should meet the following criteria:\n",
    "        - have at least 100 samples/rows\n",
    "        - have at least 4 numeric features\n",
    "    - if necessary, categorical features can simply be dropped from the dataset\n",
    "2. Import the data as a Pandas dataframe\n",
    "    - Depending on the data format, you may need to consult this [page](https://pandas.pydata.org/pandas-docs/stable/reference/io.html)\n",
    "3. Verify that your data has no missing values\n",
    "    - If it does have missing values, drop them from the dataset but be sure that your dataset still meets the criteria of *Step 1* above\n",
    "4. Choose a single, numeric feature (not the target)\n",
    "    - Replace approximately 15% of the values of this feature with `nan`, which means \"not a number\" and is one way to represent missing data\n",
    "5. Split your dataset into 2 dataframes\n",
    "    - Dataframe 1: has all `nan` values for the feature chosen in *Step 4*\n",
    "    - Dataframe 2: has no `nan` values for the feature chosen in *Step 4*\n",
    "6. Use *Dataframe 2* to create a linear regression model to predict the feature chosen in *Step 4* (not the usual target)\n",
    "    - Split the data\n",
    "    - Scale the data\n",
    "    - Create the model\n",
    "    - evaluate the model on the train and test sets\n",
    "7. Use the model you created in *Step 6* to predict the missing values in *Dataframe 1*\n",
    "    - At the end of this step, *Dataframe 1* will have the `nan` values replaced with the predictions from the model you created in *Step 6*\n",
    "8. Create a final dataframe by combining *Dataframe 1* and *Dataframe 2*\n",
    "    - This dataframe should have no missing values\n",
    "9. Create a k nearest neighbours regressor (`k = 3`) for the dataframe you created in *Step 8*\n",
    "    - Follow the usual procedures\n",
    "10. Create a k nearest neighbours regressor (`k = 3`) for the original dataframe (from *Step 2* and maybe *Step 3*)\n",
    "    - Follow the usual procedures\n",
    "11. Is there any significant performance difference between *Step 9* and *Step 10*?\n"
   ]
  },
  {
   "cell_type": "markdown",
   "metadata": {},
   "source": [
    "## Step 1\n",
    "#### <span style=\"color:#003399\"> Standard packages import</span>\n",
    "- <span style=\"font-size: 100%;color:#003399\"> Numpy packages are used to work on array.</span>\n",
    "- <span style=\"font-size: 100%;color:#003399\"> Pandas packages are used for working on dataframes while fetching the data from csv and while creating features and target dataframe for Machine learning models.</span>\n",
    "- <span style=\"font-size: 100%;color:#003399\"> Matplotlib packages are used for plotting/visualing the data.</span>"
   ]
  },
  {
   "cell_type": "code",
   "execution_count": 1,
   "metadata": {},
   "outputs": [],
   "source": [
    "#Import standard packages\n",
    "\n",
    "import numpy as np\n",
    "import pandas as pd\n",
    "import matplotlib.pyplot as plt"
   ]
  },
  {
   "cell_type": "markdown",
   "metadata": {},
   "source": [
    "## Step 2\n",
    "####  <span style=\"color:#003399\">Reading the csv file and storing it into dataframe (admsn_data)</span>\n",
    "-  <span style=\"font-size: 100%;color:#003399\"> using read_csv() function of pandas to fetch the data from our csv file into a dataframe. </span>"
   ]
  },
  {
   "cell_type": "code",
   "execution_count": 2,
   "metadata": {},
   "outputs": [
    {
     "data": {
      "text/html": [
       "<div>\n",
       "<style scoped>\n",
       "    .dataframe tbody tr th:only-of-type {\n",
       "        vertical-align: middle;\n",
       "    }\n",
       "\n",
       "    .dataframe tbody tr th {\n",
       "        vertical-align: top;\n",
       "    }\n",
       "\n",
       "    .dataframe thead th {\n",
       "        text-align: right;\n",
       "    }\n",
       "</style>\n",
       "<table border=\"1\" class=\"dataframe\">\n",
       "  <thead>\n",
       "    <tr style=\"text-align: right;\">\n",
       "      <th></th>\n",
       "      <th>Serial No.</th>\n",
       "      <th>GRE Score</th>\n",
       "      <th>TOEFL Score</th>\n",
       "      <th>University Rating</th>\n",
       "      <th>SOP</th>\n",
       "      <th>LOR</th>\n",
       "      <th>CGPA</th>\n",
       "      <th>Research</th>\n",
       "      <th>Chance of Admit</th>\n",
       "    </tr>\n",
       "  </thead>\n",
       "  <tbody>\n",
       "    <tr>\n",
       "      <th>0</th>\n",
       "      <td>1</td>\n",
       "      <td>337</td>\n",
       "      <td>118</td>\n",
       "      <td>4</td>\n",
       "      <td>4.5</td>\n",
       "      <td>4.5</td>\n",
       "      <td>9.65</td>\n",
       "      <td>1</td>\n",
       "      <td>0.92</td>\n",
       "    </tr>\n",
       "    <tr>\n",
       "      <th>1</th>\n",
       "      <td>2</td>\n",
       "      <td>324</td>\n",
       "      <td>107</td>\n",
       "      <td>4</td>\n",
       "      <td>4.0</td>\n",
       "      <td>4.5</td>\n",
       "      <td>8.87</td>\n",
       "      <td>1</td>\n",
       "      <td>0.76</td>\n",
       "    </tr>\n",
       "    <tr>\n",
       "      <th>2</th>\n",
       "      <td>3</td>\n",
       "      <td>316</td>\n",
       "      <td>104</td>\n",
       "      <td>3</td>\n",
       "      <td>3.0</td>\n",
       "      <td>3.5</td>\n",
       "      <td>8.00</td>\n",
       "      <td>1</td>\n",
       "      <td>0.72</td>\n",
       "    </tr>\n",
       "    <tr>\n",
       "      <th>3</th>\n",
       "      <td>4</td>\n",
       "      <td>322</td>\n",
       "      <td>110</td>\n",
       "      <td>3</td>\n",
       "      <td>3.5</td>\n",
       "      <td>2.5</td>\n",
       "      <td>8.67</td>\n",
       "      <td>1</td>\n",
       "      <td>0.80</td>\n",
       "    </tr>\n",
       "    <tr>\n",
       "      <th>4</th>\n",
       "      <td>5</td>\n",
       "      <td>314</td>\n",
       "      <td>103</td>\n",
       "      <td>2</td>\n",
       "      <td>2.0</td>\n",
       "      <td>3.0</td>\n",
       "      <td>8.21</td>\n",
       "      <td>0</td>\n",
       "      <td>0.65</td>\n",
       "    </tr>\n",
       "  </tbody>\n",
       "</table>\n",
       "</div>"
      ],
      "text/plain": [
       "   Serial No.  GRE Score  TOEFL Score  University Rating  SOP  LOR   CGPA  \\\n",
       "0           1        337          118                  4  4.5   4.5  9.65   \n",
       "1           2        324          107                  4  4.0   4.5  8.87   \n",
       "2           3        316          104                  3  3.0   3.5  8.00   \n",
       "3           4        322          110                  3  3.5   2.5  8.67   \n",
       "4           5        314          103                  2  2.0   3.0  8.21   \n",
       "\n",
       "   Research  Chance of Admit   \n",
       "0         1              0.92  \n",
       "1         1              0.76  \n",
       "2         1              0.72  \n",
       "3         1              0.80  \n",
       "4         0              0.65  "
      ]
     },
     "execution_count": 2,
     "metadata": {},
     "output_type": "execute_result"
    }
   ],
   "source": [
    "#the dataset for this notebook is taken from below link\n",
    "#https://www.kaggle.com/mohansacharya/graduate-admissions/data\n",
    "#importing the dataset as dataframe\n",
    "admsn_data = pd.read_csv(\"Admission_Predict.csv\")\n",
    "\n",
    "#Top 5 records of dataset\n",
    "admsn_data.head()"
   ]
  },
  {
   "cell_type": "markdown",
   "metadata": {},
   "source": [
    "## Step 3\n",
    "#### <span style=\"color:#003399\"> Verifying that dataset has no Missing values </span>\n",
    "- <span style=\"font-size: 100%;color:#003399\"> .describe() method gives the summary of the dataframe </span>"
   ]
  },
  {
   "cell_type": "code",
   "execution_count": 3,
   "metadata": {},
   "outputs": [
    {
     "name": "stdout",
     "output_type": "stream",
     "text": [
      "       Serial No.   GRE Score  TOEFL Score  University Rating         SOP  \\\n",
      "count  400.000000  400.000000   400.000000         400.000000  400.000000   \n",
      "mean   200.500000  316.807500   107.410000           3.087500    3.400000   \n",
      "std    115.614301   11.473646     6.069514           1.143728    1.006869   \n",
      "min      1.000000  290.000000    92.000000           1.000000    1.000000   \n",
      "25%    100.750000  308.000000   103.000000           2.000000    2.500000   \n",
      "50%    200.500000  317.000000   107.000000           3.000000    3.500000   \n",
      "75%    300.250000  325.000000   112.000000           4.000000    4.000000   \n",
      "max    400.000000  340.000000   120.000000           5.000000    5.000000   \n",
      "\n",
      "             LOR         CGPA    Research  Chance of Admit   \n",
      "count  400.000000  400.000000  400.000000        400.000000  \n",
      "mean     3.452500    8.598925    0.547500          0.724350  \n",
      "std      0.898478    0.596317    0.498362          0.142609  \n",
      "min      1.000000    6.800000    0.000000          0.340000  \n",
      "25%      3.000000    8.170000    0.000000          0.640000  \n",
      "50%      3.500000    8.610000    1.000000          0.730000  \n",
      "75%      4.000000    9.062500    1.000000          0.830000  \n",
      "max      5.000000    9.920000    1.000000          0.970000  \n"
     ]
    }
   ],
   "source": [
    "#Descibe the summary of the dataset\n",
    "print(admsn_data.describe())"
   ]
  },
  {
   "cell_type": "markdown",
   "metadata": {},
   "source": [
    "- <span style=\"font-size: 100%;color:#003399\"> .isnull() method is used to check if there is null values in dataframe and it will return boolean value (True or False) </span>\n",
    "-<span style=\"font-size: 100%;color:#003399\"> .any() method is checking where the condition is satisfying for any column, here in our case it checks if any columns has null values or not </span>"
   ]
  },
  {
   "cell_type": "code",
   "execution_count": 4,
   "metadata": {},
   "outputs": [
    {
     "name": "stdout",
     "output_type": "stream",
     "text": [
      "Serial No.           False\n",
      "GRE Score            False\n",
      "TOEFL Score          False\n",
      "University Rating    False\n",
      "SOP                  False\n",
      "LOR                  False\n",
      "CGPA                 False\n",
      "Research             False\n",
      "Chance of Admit      False\n",
      "dtype: bool\n"
     ]
    }
   ],
   "source": [
    "#Checking if data has any null values\n",
    "print(admsn_data.isnull().any())\n"
   ]
  },
  {
   "cell_type": "markdown",
   "metadata": {},
   "source": [
    "- <span style=\"font-size: 100%;color:#003399\"> .isna().any() method is used to check if there is any NA values in dataframe and it will return boolean value (True or False) based on the columns in dataframe</span>"
   ]
  },
  {
   "cell_type": "code",
   "execution_count": 5,
   "metadata": {},
   "outputs": [
    {
     "name": "stdout",
     "output_type": "stream",
     "text": [
      "Serial No.           False\n",
      "GRE Score            False\n",
      "TOEFL Score          False\n",
      "University Rating    False\n",
      "SOP                  False\n",
      "LOR                  False\n",
      "CGPA                 False\n",
      "Research             False\n",
      "Chance of Admit      False\n",
      "dtype: bool\n"
     ]
    }
   ],
   "source": [
    "#checking if data has any NA values for each colums\n",
    "print(admsn_data.isna().any())"
   ]
  },
  {
   "cell_type": "markdown",
   "metadata": {},
   "source": [
    "## Step 4"
   ]
  },
  {
   "cell_type": "markdown",
   "metadata": {},
   "source": [
    "##### <span style=\"color:#003399\"> Assigning 15% of the values of feature \"TOEFL Score\" as NAN </span>\n",
    "- <span style=\"font-size: 100%;color:#003399\"> .isna().sum() method is used to count the number of NA in the column</span>"
   ]
  },
  {
   "cell_type": "code",
   "execution_count": 6,
   "metadata": {},
   "outputs": [],
   "source": [
    "#creating a copy of dataset\n",
    "data = admsn_data.copy()\n",
    "\n",
    "data['TOEFL Score'] = data['TOEFL Score'].sample(frac=0.85)"
   ]
  },
  {
   "cell_type": "code",
   "execution_count": 7,
   "metadata": {},
   "outputs": [
    {
     "name": "stdout",
     "output_type": "stream",
     "text": [
      "60\n",
      "15.00%\n"
     ]
    }
   ],
   "source": [
    "count_null = data['TOEFL Score'].isna().sum()\n",
    "#Printing the count of Null records \n",
    "print(count_null)\n",
    "total = len(data['TOEFL Score'])\n",
    "\n",
    "#Percentage of data as Null\n",
    "print(\"{:.2f}\".format(round(count_null/total,2)*100)+\"%\")"
   ]
  },
  {
   "cell_type": "code",
   "execution_count": 8,
   "metadata": {},
   "outputs": [
    {
     "data": {
      "text/plain": [
       "60"
      ]
     },
     "execution_count": 8,
     "metadata": {},
     "output_type": "execute_result"
    }
   ],
   "source": [
    "#count number of rows with NA\n",
    "data['TOEFL Score'].isna().sum()\n"
   ]
  },
  {
   "cell_type": "markdown",
   "metadata": {},
   "source": [
    "### Step 5\n",
    "#### Splitting the data into two data frame"
   ]
  },
  {
   "cell_type": "markdown",
   "metadata": {},
   "source": [
    "##### <span style=\"color:#003399\"> data_wo_null with not null values in features (\"TOEFL Score\") </span>"
   ]
  },
  {
   "cell_type": "code",
   "execution_count": 9,
   "metadata": {},
   "outputs": [
    {
     "name": "stdout",
     "output_type": "stream",
     "text": [
      "(340, 9)\n"
     ]
    },
    {
     "data": {
      "text/html": [
       "<div>\n",
       "<style scoped>\n",
       "    .dataframe tbody tr th:only-of-type {\n",
       "        vertical-align: middle;\n",
       "    }\n",
       "\n",
       "    .dataframe tbody tr th {\n",
       "        vertical-align: top;\n",
       "    }\n",
       "\n",
       "    .dataframe thead th {\n",
       "        text-align: right;\n",
       "    }\n",
       "</style>\n",
       "<table border=\"1\" class=\"dataframe\">\n",
       "  <thead>\n",
       "    <tr style=\"text-align: right;\">\n",
       "      <th></th>\n",
       "      <th>Serial No.</th>\n",
       "      <th>GRE Score</th>\n",
       "      <th>TOEFL Score</th>\n",
       "      <th>University Rating</th>\n",
       "      <th>SOP</th>\n",
       "      <th>LOR</th>\n",
       "      <th>CGPA</th>\n",
       "      <th>Research</th>\n",
       "      <th>Chance of Admit</th>\n",
       "    </tr>\n",
       "  </thead>\n",
       "  <tbody>\n",
       "    <tr>\n",
       "      <th>0</th>\n",
       "      <td>1</td>\n",
       "      <td>337</td>\n",
       "      <td>118.0</td>\n",
       "      <td>4</td>\n",
       "      <td>4.5</td>\n",
       "      <td>4.5</td>\n",
       "      <td>9.65</td>\n",
       "      <td>1</td>\n",
       "      <td>0.92</td>\n",
       "    </tr>\n",
       "    <tr>\n",
       "      <th>1</th>\n",
       "      <td>2</td>\n",
       "      <td>324</td>\n",
       "      <td>107.0</td>\n",
       "      <td>4</td>\n",
       "      <td>4.0</td>\n",
       "      <td>4.5</td>\n",
       "      <td>8.87</td>\n",
       "      <td>1</td>\n",
       "      <td>0.76</td>\n",
       "    </tr>\n",
       "    <tr>\n",
       "      <th>2</th>\n",
       "      <td>3</td>\n",
       "      <td>316</td>\n",
       "      <td>104.0</td>\n",
       "      <td>3</td>\n",
       "      <td>3.0</td>\n",
       "      <td>3.5</td>\n",
       "      <td>8.00</td>\n",
       "      <td>1</td>\n",
       "      <td>0.72</td>\n",
       "    </tr>\n",
       "    <tr>\n",
       "      <th>3</th>\n",
       "      <td>4</td>\n",
       "      <td>322</td>\n",
       "      <td>110.0</td>\n",
       "      <td>3</td>\n",
       "      <td>3.5</td>\n",
       "      <td>2.5</td>\n",
       "      <td>8.67</td>\n",
       "      <td>1</td>\n",
       "      <td>0.80</td>\n",
       "    </tr>\n",
       "    <tr>\n",
       "      <th>4</th>\n",
       "      <td>5</td>\n",
       "      <td>314</td>\n",
       "      <td>103.0</td>\n",
       "      <td>2</td>\n",
       "      <td>2.0</td>\n",
       "      <td>3.0</td>\n",
       "      <td>8.21</td>\n",
       "      <td>0</td>\n",
       "      <td>0.65</td>\n",
       "    </tr>\n",
       "  </tbody>\n",
       "</table>\n",
       "</div>"
      ],
      "text/plain": [
       "   Serial No.  GRE Score  TOEFL Score  University Rating  SOP  LOR   CGPA  \\\n",
       "0           1        337        118.0                  4  4.5   4.5  9.65   \n",
       "1           2        324        107.0                  4  4.0   4.5  8.87   \n",
       "2           3        316        104.0                  3  3.0   3.5  8.00   \n",
       "3           4        322        110.0                  3  3.5   2.5  8.67   \n",
       "4           5        314        103.0                  2  2.0   3.0  8.21   \n",
       "\n",
       "   Research  Chance of Admit   \n",
       "0         1              0.92  \n",
       "1         1              0.76  \n",
       "2         1              0.72  \n",
       "3         1              0.80  \n",
       "4         0              0.65  "
      ]
     },
     "execution_count": 9,
     "metadata": {},
     "output_type": "execute_result"
    }
   ],
   "source": [
    "data_wo_null = data[data['TOEFL Score'].notnull()]\n",
    "print(data_wo_null.shape)\n",
    "\n",
    "#fetchin top records in the dataframe with not null feature\n",
    "data_wo_null.head()"
   ]
  },
  {
   "cell_type": "markdown",
   "metadata": {},
   "source": [
    "##### <span style=\"color:#003399\"> data_w_null with null values in feature (\"TOEFL Score\") </span>"
   ]
  },
  {
   "cell_type": "code",
   "execution_count": 10,
   "metadata": {},
   "outputs": [
    {
     "name": "stdout",
     "output_type": "stream",
     "text": [
      "(60, 9)\n"
     ]
    },
    {
     "data": {
      "text/html": [
       "<div>\n",
       "<style scoped>\n",
       "    .dataframe tbody tr th:only-of-type {\n",
       "        vertical-align: middle;\n",
       "    }\n",
       "\n",
       "    .dataframe tbody tr th {\n",
       "        vertical-align: top;\n",
       "    }\n",
       "\n",
       "    .dataframe thead th {\n",
       "        text-align: right;\n",
       "    }\n",
       "</style>\n",
       "<table border=\"1\" class=\"dataframe\">\n",
       "  <thead>\n",
       "    <tr style=\"text-align: right;\">\n",
       "      <th></th>\n",
       "      <th>Serial No.</th>\n",
       "      <th>GRE Score</th>\n",
       "      <th>TOEFL Score</th>\n",
       "      <th>University Rating</th>\n",
       "      <th>SOP</th>\n",
       "      <th>LOR</th>\n",
       "      <th>CGPA</th>\n",
       "      <th>Research</th>\n",
       "      <th>Chance of Admit</th>\n",
       "    </tr>\n",
       "  </thead>\n",
       "  <tbody>\n",
       "    <tr>\n",
       "      <th>9</th>\n",
       "      <td>10</td>\n",
       "      <td>323</td>\n",
       "      <td>NaN</td>\n",
       "      <td>3</td>\n",
       "      <td>3.5</td>\n",
       "      <td>3.0</td>\n",
       "      <td>8.6</td>\n",
       "      <td>0</td>\n",
       "      <td>0.45</td>\n",
       "    </tr>\n",
       "    <tr>\n",
       "      <th>12</th>\n",
       "      <td>13</td>\n",
       "      <td>328</td>\n",
       "      <td>NaN</td>\n",
       "      <td>4</td>\n",
       "      <td>4.0</td>\n",
       "      <td>4.5</td>\n",
       "      <td>9.1</td>\n",
       "      <td>1</td>\n",
       "      <td>0.78</td>\n",
       "    </tr>\n",
       "    <tr>\n",
       "      <th>27</th>\n",
       "      <td>28</td>\n",
       "      <td>298</td>\n",
       "      <td>NaN</td>\n",
       "      <td>2</td>\n",
       "      <td>1.5</td>\n",
       "      <td>2.5</td>\n",
       "      <td>7.5</td>\n",
       "      <td>1</td>\n",
       "      <td>0.44</td>\n",
       "    </tr>\n",
       "    <tr>\n",
       "      <th>37</th>\n",
       "      <td>38</td>\n",
       "      <td>300</td>\n",
       "      <td>NaN</td>\n",
       "      <td>1</td>\n",
       "      <td>1.0</td>\n",
       "      <td>2.0</td>\n",
       "      <td>7.8</td>\n",
       "      <td>0</td>\n",
       "      <td>0.58</td>\n",
       "    </tr>\n",
       "    <tr>\n",
       "      <th>41</th>\n",
       "      <td>42</td>\n",
       "      <td>316</td>\n",
       "      <td>NaN</td>\n",
       "      <td>2</td>\n",
       "      <td>2.5</td>\n",
       "      <td>2.5</td>\n",
       "      <td>8.2</td>\n",
       "      <td>1</td>\n",
       "      <td>0.49</td>\n",
       "    </tr>\n",
       "  </tbody>\n",
       "</table>\n",
       "</div>"
      ],
      "text/plain": [
       "    Serial No.  GRE Score  TOEFL Score  University Rating  SOP  LOR   CGPA  \\\n",
       "9           10        323          NaN                  3  3.5   3.0   8.6   \n",
       "12          13        328          NaN                  4  4.0   4.5   9.1   \n",
       "27          28        298          NaN                  2  1.5   2.5   7.5   \n",
       "37          38        300          NaN                  1  1.0   2.0   7.8   \n",
       "41          42        316          NaN                  2  2.5   2.5   8.2   \n",
       "\n",
       "    Research  Chance of Admit   \n",
       "9          0              0.45  \n",
       "12         1              0.78  \n",
       "27         1              0.44  \n",
       "37         0              0.58  \n",
       "41         1              0.49  "
      ]
     },
     "execution_count": 10,
     "metadata": {},
     "output_type": "execute_result"
    }
   ],
   "source": [
    "data_w_null =  data[data['TOEFL Score'].isnull()]\n",
    "print(data_w_null.shape)\n",
    "\n",
    "#fetching top records in the dataframe with null feature\n",
    "data_w_null.head()"
   ]
  },
  {
   "cell_type": "markdown",
   "metadata": {},
   "source": [
    "<br>\n",
    "\n",
    "#### <span style=\"color:#003399\"> Creating features and target for not null dataset </span>"
   ]
  },
  {
   "cell_type": "code",
   "execution_count": 11,
   "metadata": {},
   "outputs": [
    {
     "name": "stdout",
     "output_type": "stream",
     "text": [
      "(340, 6)\n"
     ]
    },
    {
     "data": {
      "text/html": [
       "<div>\n",
       "<style scoped>\n",
       "    .dataframe tbody tr th:only-of-type {\n",
       "        vertical-align: middle;\n",
       "    }\n",
       "\n",
       "    .dataframe tbody tr th {\n",
       "        vertical-align: top;\n",
       "    }\n",
       "\n",
       "    .dataframe thead th {\n",
       "        text-align: right;\n",
       "    }\n",
       "</style>\n",
       "<table border=\"1\" class=\"dataframe\">\n",
       "  <thead>\n",
       "    <tr style=\"text-align: right;\">\n",
       "      <th></th>\n",
       "      <th>TOEFL Score</th>\n",
       "    </tr>\n",
       "  </thead>\n",
       "  <tbody>\n",
       "    <tr>\n",
       "      <th>0</th>\n",
       "      <td>118.0</td>\n",
       "    </tr>\n",
       "    <tr>\n",
       "      <th>1</th>\n",
       "      <td>107.0</td>\n",
       "    </tr>\n",
       "    <tr>\n",
       "      <th>2</th>\n",
       "      <td>104.0</td>\n",
       "    </tr>\n",
       "    <tr>\n",
       "      <th>3</th>\n",
       "      <td>110.0</td>\n",
       "    </tr>\n",
       "    <tr>\n",
       "      <th>4</th>\n",
       "      <td>103.0</td>\n",
       "    </tr>\n",
       "  </tbody>\n",
       "</table>\n",
       "</div>"
      ],
      "text/plain": [
       "   TOEFL Score\n",
       "0        118.0\n",
       "1        107.0\n",
       "2        104.0\n",
       "3        110.0\n",
       "4        103.0"
      ]
     },
     "execution_count": 11,
     "metadata": {},
     "output_type": "execute_result"
    }
   ],
   "source": [
    "#Creating feature data from not nul dataset\n",
    "X_df =  data_wo_null[['GRE Score','University Rating','SOP','LOR ','CGPA','Research']]\n",
    "#Shape of feature data frame\n",
    "print(X_df.shape)\n",
    "\n",
    "#fetching top records of features\n",
    "X_df.head()\n",
    "\n",
    "#Creating target data from not nul dataset\n",
    "y = data_wo_null[['TOEFL Score']]\n",
    "\n",
    "#fetching top records of target\n",
    "y.head()"
   ]
  },
  {
   "cell_type": "markdown",
   "metadata": {},
   "source": [
    "## Step 6\n",
    "#### <span style=\"color:#003399\"> Splitting the not null data into Train & Test </span>\n",
    "- <span style=\"font-size: 100%;color:#003399\"> train_test_split() method is used from sklearn package, model selection module which splits the features and target data into training and testing dataset  </span>\n"
   ]
  },
  {
   "cell_type": "code",
   "execution_count": 12,
   "metadata": {},
   "outputs": [],
   "source": [
    "from sklearn.model_selection import train_test_split\n",
    "\n",
    "X_train,X_test, y_train, y_test = train_test_split(X_df,y,random_state = 456)"
   ]
  },
  {
   "cell_type": "markdown",
   "metadata": {},
   "source": [
    "#### <span style=\"color:#003399\">Train, test accuracies and shape </span>"
   ]
  },
  {
   "cell_type": "code",
   "execution_count": 13,
   "metadata": {},
   "outputs": [
    {
     "name": "stdout",
     "output_type": "stream",
     "text": [
      "Training data percentage is 75.00 %\n",
      "Test data percentage is 25.00 %\n",
      "\n",
      "\n",
      "Features train shape(255, 6)\n",
      "Features test shape(85, 6)\n",
      "\n",
      "\n",
      "Target train shape(255, 1)\n",
      "Target test shape(85, 1)\n"
     ]
    }
   ],
   "source": [
    "#Train accuracy percentage\n",
    "print(\"Training data percentage is {:.2f}\".format(len(X_train)/len(data_wo_null)*100)+\" %\")\n",
    "#Test accuracy percentage\n",
    "print(\"Test data percentage is {:.2f}\".format((len(X_test)/len(data_wo_null))*100)+\" %\")\n",
    "\n",
    "print(\"\\n\")\n",
    "\n",
    "#Tain and test feature dataset shapes\n",
    "print(\"Features train shape\"+str(X_train.shape))\n",
    "print(\"Features test shape\"+str(X_test.shape))\n",
    "\n",
    "print(\"\\n\")\n",
    "\n",
    "#Tain and test target dataset shapes\n",
    "print(\"Target train shape\"+str(y_train.shape))\n",
    "print(\"Target test shape\"+str(y_test.shape))"
   ]
  },
  {
   "cell_type": "markdown",
   "metadata": {},
   "source": [
    "<br>\n",
    "\n",
    "### <span style=\"color:#003399\">Building the model </span>\n",
    "- <span style=\"font-size: 100%;color:#003399\"> Linear Regression model belongs to the sklearn.linear_model module which is used for creating the linear models for independent and dependent variables </span>\n",
    "- <span style=\"font-size: 100%;color:#003399\"> we will create a object(lr) belonging to class LinearRegression </span>\n",
    "- <span style=\"font-size: 100%;color:#003399\"> .fit() is used to fit the training data into the model </span>"
   ]
  },
  {
   "cell_type": "code",
   "execution_count": 14,
   "metadata": {},
   "outputs": [
    {
     "data": {
      "text/plain": [
       "LinearRegression(copy_X=True, fit_intercept=True, n_jobs=None, normalize=False)"
      ]
     },
     "execution_count": 14,
     "metadata": {},
     "output_type": "execute_result"
    }
   ],
   "source": [
    "#Importing linear regression libraries from sklearn linear_model module\n",
    "from sklearn.linear_model import LinearRegression\n",
    "\n",
    "#Creating object of linear regression class\n",
    "lr = LinearRegression()\n",
    "\n",
    "#fitting the train data to dataset\n",
    "lr.fit(X_train,y_train)"
   ]
  },
  {
   "cell_type": "markdown",
   "metadata": {},
   "source": [
    "<br>\n",
    "\n",
    "#### <span style=\"color:#003399\"> Finding the co-efficients (weights) for features and the intercept </span>\n",
    "- <span style=\"font-size: 100%;color:#003399\"> .coef_ method is used to find the coefficients/weights of the independent varilables/features </span>\n",
    "    - <span style=\"font-size: 100%;color:#003399\"> The regression co-efficents in  multiple regression is the slope of relationship between our dependent and independent variables (i.e. between between the features and target). This acts as weights for each features, So model will learn and adjust the weights, so that if a feature is important and affecting the target will have a higher weight compare to the feature will is less important, so its weight would be less </span>\n",
    "- <span style=\"font-size: 100%;color:#003399\"> .intercept_ is used to find the intercept of the equation, based on which our model is built.</span>\n",
    "    - <span style=\"font-size: 100%;color:#003399\">Intercept means that even if the features(X) is Zero(0) the Target(y) will still have a value equal to intercept(W0). </span>"
   ]
  },
  {
   "cell_type": "code",
   "execution_count": 15,
   "metadata": {},
   "outputs": [
    {
     "name": "stdout",
     "output_type": "stream",
     "text": [
      "Coefficients of model are [[ 0.26437415  0.66344017  0.48855059 -0.30648806  3.41696786 -0.24953508]]\n",
      "<class 'numpy.ndarray'>\n",
      "Intercept of the linear model is [-8.25293833]\n"
     ]
    }
   ],
   "source": [
    "#finding the co-efficient of linear model\n",
    "coeff = lr.coef_\n",
    "print(\"Coefficients of model are \"+str(coeff))\n",
    "print(type(coeff))\n",
    "\n",
    "#finding the intercept (W0 Weight) of linear model\n",
    "intercpt = lr.intercept_\n",
    "print(\"Intercept of the linear model is \"+str(intercpt))"
   ]
  },
  {
   "cell_type": "markdown",
   "metadata": {},
   "source": [
    "<br>\n",
    "\n",
    "#### <span style=\"color:#003399\">  As we are using 5 features X1, X2, X3, X4, X5 and 1 feature as target equation of the line will be </span>\n",
    "\n",
    "<span style=\"color:blue\"> **y = w0 + w1*x1 + w2 * x2 + w3 * X3 + w4 * x4 + w5 * x5** </span>\n",
    "\n",
    "##### 'TOEFL Score' = Intercept + (coeff[0] * 'GRE Score') + (coeff[1] * 'University Rating') + (coeff[2] * SOP) + (coeff[3] * LOR) + (coeff[4] * CGPA) + (coeff[5] * Research)"
   ]
  },
  {
   "cell_type": "markdown",
   "metadata": {},
   "source": [
    "<br>\n",
    "\n",
    "#### <span style=\"color:#003399\">  Predicting the value of the target based on the model </span>\n",
    "- <span style=\"font-size: 100%;color:#003399\"> predicting the TOEFL Score </span>\n",
    "- <span style=\"font-size: 100%;color:#003399\"> .predict() method is used to predict the target bassed on the feature dataset </span>"
   ]
  },
  {
   "cell_type": "code",
   "execution_count": 16,
   "metadata": {},
   "outputs": [
    {
     "name": "stdout",
     "output_type": "stream",
     "text": [
      "[[102.55645253]\n",
      " [106.19368093]\n",
      " [109.53277399]\n",
      " [ 96.5152292 ]\n",
      " [100.1046061 ]]\n"
     ]
    }
   ],
   "source": [
    "# prediciting the target based on the test\n",
    "y_pred = lr.predict(X_test)\n",
    "\n",
    "#printing first 5 predicted values\n",
    "print(y_pred[0:5])"
   ]
  },
  {
   "cell_type": "markdown",
   "metadata": {},
   "source": [
    "<br>\n",
    "\n",
    "#### <span style=\"color:#003399\"> Finding the difference between the actual and the predicted values </span>"
   ]
  },
  {
   "cell_type": "code",
   "execution_count": 17,
   "metadata": {},
   "outputs": [
    {
     "data": {
      "text/html": [
       "<div>\n",
       "<style scoped>\n",
       "    .dataframe tbody tr th:only-of-type {\n",
       "        vertical-align: middle;\n",
       "    }\n",
       "\n",
       "    .dataframe tbody tr th {\n",
       "        vertical-align: top;\n",
       "    }\n",
       "\n",
       "    .dataframe thead th {\n",
       "        text-align: right;\n",
       "    }\n",
       "</style>\n",
       "<table border=\"1\" class=\"dataframe\">\n",
       "  <thead>\n",
       "    <tr style=\"text-align: right;\">\n",
       "      <th></th>\n",
       "      <th>TOEFL Score</th>\n",
       "    </tr>\n",
       "  </thead>\n",
       "  <tbody>\n",
       "    <tr>\n",
       "      <th>300</th>\n",
       "      <td>-3.443547</td>\n",
       "    </tr>\n",
       "    <tr>\n",
       "      <th>17</th>\n",
       "      <td>0.193681</td>\n",
       "    </tr>\n",
       "    <tr>\n",
       "      <th>153</th>\n",
       "      <td>4.532774</td>\n",
       "    </tr>\n",
       "    <tr>\n",
       "      <th>272</th>\n",
       "      <td>1.515229</td>\n",
       "    </tr>\n",
       "    <tr>\n",
       "      <th>8</th>\n",
       "      <td>-1.895394</td>\n",
       "    </tr>\n",
       "  </tbody>\n",
       "</table>\n",
       "</div>"
      ],
      "text/plain": [
       "     TOEFL Score\n",
       "300    -3.443547\n",
       "17      0.193681\n",
       "153     4.532774\n",
       "272     1.515229\n",
       "8      -1.895394"
      ]
     },
     "execution_count": 17,
     "metadata": {},
     "output_type": "execute_result"
    }
   ],
   "source": [
    "#finding the difference between the actual values and the predicted values\n",
    "residuals =  y_pred - y_test\n",
    "residuals.head()"
   ]
  },
  {
   "cell_type": "markdown",
   "metadata": {},
   "source": [
    "#### <span style=\"color:#003399\"> Evaluation of the model based on the metrics </span>\n",
    "- <span style=\"font-size: 100%;color:#003399\"> r2_score() gives us information about how close the data are to the fitted regression line, or how much our predicted values are varying from our test dataset</span>\n",
    "- <span style=\"font-size: 100%;color:#003399\"> We can evaluate model using many metrics, we will focus on R2_Score for our model </span>"
   ]
  },
  {
   "cell_type": "code",
   "execution_count": 18,
   "metadata": {},
   "outputs": [
    {
     "name": "stdout",
     "output_type": "stream",
     "text": [
      "R^2 : \t\t\t\t 0.72 \n",
      "Mean Squared value :\t\t 8.25  \n",
      "Root mean squared value : \t 2.87 \n",
      "Abssolute mean error : \t\t 2.19 \n"
     ]
    }
   ],
   "source": [
    "#importing the metrics packages from sklearn.metrics\n",
    "from sklearn.metrics import r2_score\n",
    "from sklearn.metrics import mean_squared_error\n",
    "from sklearn.metrics import mean_absolute_error\n",
    "import math \n",
    "\n",
    "print(\"R^2 : \\t\\t\\t\\t {:.2f} \".format(r2_score(y_test,y_pred)))\n",
    "print(\"Mean Squared value :\\t\\t {:.2f}  \".format(mean_squared_error(y_test,y_pred)))\n",
    "print(\"Root mean squared value : \\t {:.2f} \".format(math.sqrt(mean_squared_error(y_test,y_pred))))\n",
    "print(\"Abssolute mean error : \\t\\t {:.2f} \".format(mean_absolute_error(y_test,y_pred)))"
   ]
  },
  {
   "cell_type": "markdown",
   "metadata": {},
   "source": [
    "<br>\n",
    "\n",
    "## Step 7"
   ]
  },
  {
   "cell_type": "markdown",
   "metadata": {},
   "source": [
    "#### <span style=\"color:#003399\"> Predicting feature ('TOEFL Score') for null dataset based on model built </span>"
   ]
  },
  {
   "cell_type": "markdown",
   "metadata": {},
   "source": [
    "#### <span style=\"color:#003399\">  Creating feature and the target data for the dataset having NAN values for feature (\"TOEFL Score\") </span>"
   ]
  },
  {
   "cell_type": "code",
   "execution_count": 19,
   "metadata": {},
   "outputs": [
    {
     "data": {
      "text/html": [
       "<div>\n",
       "<style scoped>\n",
       "    .dataframe tbody tr th:only-of-type {\n",
       "        vertical-align: middle;\n",
       "    }\n",
       "\n",
       "    .dataframe tbody tr th {\n",
       "        vertical-align: top;\n",
       "    }\n",
       "\n",
       "    .dataframe thead th {\n",
       "        text-align: right;\n",
       "    }\n",
       "</style>\n",
       "<table border=\"1\" class=\"dataframe\">\n",
       "  <thead>\n",
       "    <tr style=\"text-align: right;\">\n",
       "      <th></th>\n",
       "      <th>GRE Score</th>\n",
       "      <th>University Rating</th>\n",
       "      <th>SOP</th>\n",
       "      <th>LOR</th>\n",
       "      <th>CGPA</th>\n",
       "      <th>Research</th>\n",
       "    </tr>\n",
       "  </thead>\n",
       "  <tbody>\n",
       "    <tr>\n",
       "      <th>9</th>\n",
       "      <td>323</td>\n",
       "      <td>3</td>\n",
       "      <td>3.5</td>\n",
       "      <td>3.0</td>\n",
       "      <td>8.6</td>\n",
       "      <td>0</td>\n",
       "    </tr>\n",
       "    <tr>\n",
       "      <th>12</th>\n",
       "      <td>328</td>\n",
       "      <td>4</td>\n",
       "      <td>4.0</td>\n",
       "      <td>4.5</td>\n",
       "      <td>9.1</td>\n",
       "      <td>1</td>\n",
       "    </tr>\n",
       "    <tr>\n",
       "      <th>27</th>\n",
       "      <td>298</td>\n",
       "      <td>2</td>\n",
       "      <td>1.5</td>\n",
       "      <td>2.5</td>\n",
       "      <td>7.5</td>\n",
       "      <td>1</td>\n",
       "    </tr>\n",
       "    <tr>\n",
       "      <th>37</th>\n",
       "      <td>300</td>\n",
       "      <td>1</td>\n",
       "      <td>1.0</td>\n",
       "      <td>2.0</td>\n",
       "      <td>7.8</td>\n",
       "      <td>0</td>\n",
       "    </tr>\n",
       "    <tr>\n",
       "      <th>41</th>\n",
       "      <td>316</td>\n",
       "      <td>2</td>\n",
       "      <td>2.5</td>\n",
       "      <td>2.5</td>\n",
       "      <td>8.2</td>\n",
       "      <td>1</td>\n",
       "    </tr>\n",
       "  </tbody>\n",
       "</table>\n",
       "</div>"
      ],
      "text/plain": [
       "    GRE Score  University Rating  SOP  LOR   CGPA  Research\n",
       "9         323                  3  3.5   3.0   8.6         0\n",
       "12        328                  4  4.0   4.5   9.1         1\n",
       "27        298                  2  1.5   2.5   7.5         1\n",
       "37        300                  1  1.0   2.0   7.8         0\n",
       "41        316                  2  2.5   2.5   8.2         1"
      ]
     },
     "execution_count": 19,
     "metadata": {},
     "output_type": "execute_result"
    }
   ],
   "source": [
    "#Creating feature dataframe\n",
    "X_null_df = data_w_null[['GRE Score','University Rating','SOP','LOR ','CGPA','Research']]\n",
    "X_null_df.head()"
   ]
  },
  {
   "cell_type": "code",
   "execution_count": 20,
   "metadata": {},
   "outputs": [
    {
     "data": {
      "text/html": [
       "<div>\n",
       "<style scoped>\n",
       "    .dataframe tbody tr th:only-of-type {\n",
       "        vertical-align: middle;\n",
       "    }\n",
       "\n",
       "    .dataframe tbody tr th {\n",
       "        vertical-align: top;\n",
       "    }\n",
       "\n",
       "    .dataframe thead th {\n",
       "        text-align: right;\n",
       "    }\n",
       "</style>\n",
       "<table border=\"1\" class=\"dataframe\">\n",
       "  <thead>\n",
       "    <tr style=\"text-align: right;\">\n",
       "      <th></th>\n",
       "      <th>TOEFL Score</th>\n",
       "    </tr>\n",
       "  </thead>\n",
       "  <tbody>\n",
       "    <tr>\n",
       "      <th>9</th>\n",
       "      <td>NaN</td>\n",
       "    </tr>\n",
       "    <tr>\n",
       "      <th>12</th>\n",
       "      <td>NaN</td>\n",
       "    </tr>\n",
       "    <tr>\n",
       "      <th>27</th>\n",
       "      <td>NaN</td>\n",
       "    </tr>\n",
       "    <tr>\n",
       "      <th>37</th>\n",
       "      <td>NaN</td>\n",
       "    </tr>\n",
       "    <tr>\n",
       "      <th>41</th>\n",
       "      <td>NaN</td>\n",
       "    </tr>\n",
       "  </tbody>\n",
       "</table>\n",
       "</div>"
      ],
      "text/plain": [
       "    TOEFL Score\n",
       "9           NaN\n",
       "12          NaN\n",
       "27          NaN\n",
       "37          NaN\n",
       "41          NaN"
      ]
     },
     "execution_count": 20,
     "metadata": {},
     "output_type": "execute_result"
    }
   ],
   "source": [
    "#Creating target dataframe\n",
    "y_null = data_w_null[['TOEFL Score']]\n",
    "y_null.head()\n"
   ]
  },
  {
   "cell_type": "markdown",
   "metadata": {},
   "source": [
    "<span style=\"font-size: 100%;color:#003399\"> Predicting the y 'TOEFL Score' using two methods </span>"
   ]
  },
  {
   "cell_type": "markdown",
   "metadata": {},
   "source": [
    "#### <span style=\"color:#003399\">  Predicting the y i.e. our null Feature 'TOEFL Score' using model </span>"
   ]
  },
  {
   "cell_type": "code",
   "execution_count": 21,
   "metadata": {},
   "outputs": [
    {
     "data": {
      "text/plain": [
       "array([[109.30661802],\n",
       "       [112.53542097],\n",
       "       [ 97.20176732],\n",
       "       [ 98.25066962],\n",
       "       [104.84093005]])"
      ]
     },
     "execution_count": 21,
     "metadata": {},
     "output_type": "execute_result"
    }
   ],
   "source": [
    "#Predicting using the model\n",
    "y_pred_null = lr.predict(X_null_df)\n",
    "y_pred_null[0:5]"
   ]
  },
  {
   "cell_type": "markdown",
   "metadata": {},
   "source": [
    "<br>\n",
    "\n",
    "#### <span style=\"color:#003399\">  Finding the values of the Null feature using the model equation </span>"
   ]
  },
  {
   "cell_type": "code",
   "execution_count": 22,
   "metadata": {},
   "outputs": [
    {
     "data": {
      "text/plain": [
       "9     109.306618\n",
       "12    112.535421\n",
       "27     97.201767\n",
       "37     98.250670\n",
       "41    104.840930\n",
       "dtype: float64"
      ]
     },
     "execution_count": 22,
     "metadata": {},
     "output_type": "execute_result"
    }
   ],
   "source": [
    "#Calculating NAN feature (\"TOEFL Score\")\n",
    "\n",
    "y_null = intercpt + (coeff.flat[0] * X_null_df['GRE Score']) + (coeff.flat[1] * X_null_df['University Rating']) + (coeff.flat[2] * X_null_df['SOP']) + (coeff.flat[3] * X_null_df['LOR ']) + (coeff.flat[4] * X_null_df['CGPA']) + (coeff.flat[5] * X_null_df['Research'])\n",
    "\n",
    "#Top 5 predicted values from our model for features we changed to NAN\n",
    "y_null[0:5]"
   ]
  },
  {
   "cell_type": "markdown",
   "metadata": {},
   "source": [
    "<br>\n",
    "\n",
    "##### We can see that both using the .predict() method and using the model , we get the same predicted values for feature 'TOEFL Score'"
   ]
  },
  {
   "cell_type": "markdown",
   "metadata": {},
   "source": [
    "<br> <br>\n",
    "####  <span style=\"color:#003399\">  Finding the difference between the predicted value and the values from the dataset </span>"
   ]
  },
  {
   "cell_type": "code",
   "execution_count": 23,
   "metadata": {},
   "outputs": [
    {
     "data": {
      "text/plain": [
       "[-1.3066180197880897,\n",
       " -0.5354209744994165,\n",
       " 0.7982326818940209,\n",
       " 6.74933038239044,\n",
       " 0.15906995282495018]"
      ]
     },
     "execution_count": 23,
     "metadata": {},
     "output_type": "execute_result"
    }
   ],
   "source": [
    "#find the difference between the actual values in dataset and the predicted values for NaN feature\n",
    "residuals_for_null = []\n",
    "for i in data_w_null['TOEFL Score'].index:\n",
    "    \n",
    "    residuals_for_null.append(admsn_data['TOEFL Score'].loc[i] - y_null[i])\n",
    "    \n",
    "#Fetching first 5 records for difference values\n",
    "residuals_for_null[0:5]"
   ]
  },
  {
   "cell_type": "markdown",
   "metadata": {},
   "source": [
    "<br>\n",
    "\n",
    "## Step 8 "
   ]
  },
  {
   "cell_type": "markdown",
   "metadata": {},
   "source": [
    "#### <span style=\"color:#003399\">  Creating the dataframe after getting data from model </span>"
   ]
  },
  {
   "cell_type": "code",
   "execution_count": 24,
   "metadata": {},
   "outputs": [
    {
     "name": "stderr",
     "output_type": "stream",
     "text": [
      "C:\\Anaconda\\envs\\DAB200\\lib\\site-packages\\pandas\\core\\indexing.py:671: SettingWithCopyWarning: \n",
      "A value is trying to be set on a copy of a slice from a DataFrame\n",
      "\n",
      "See the caveats in the documentation: https://pandas.pydata.org/pandas-docs/stable/user_guide/indexing.html#returning-a-view-versus-a-copy\n",
      "  self._setitem_with_indexer(indexer, value)\n",
      "C:\\Anaconda\\envs\\DAB200\\lib\\site-packages\\ipykernel_launcher.py:5: SettingWithCopyWarning: \n",
      "A value is trying to be set on a copy of a slice from a DataFrame\n",
      "\n",
      "See the caveats in the documentation: https://pandas.pydata.org/pandas-docs/stable/user_guide/indexing.html#returning-a-view-versus-a-copy\n",
      "  \"\"\"\n"
     ]
    }
   ],
   "source": [
    "#replacing the NAN with the predicted feature ['TOEFL score'] value\n",
    "for i in data_w_null['TOEFL Score'].index:\n",
    "    #print(i,y_null[i])\n",
    "    #a[i]\n",
    "    data_w_null['TOEFL Score'].loc[i] = y_null[i]"
   ]
  },
  {
   "cell_type": "code",
   "execution_count": 25,
   "metadata": {},
   "outputs": [
    {
     "name": "stdout",
     "output_type": "stream",
     "text": [
      "(60, 9)\n"
     ]
    },
    {
     "data": {
      "text/html": [
       "<div>\n",
       "<style scoped>\n",
       "    .dataframe tbody tr th:only-of-type {\n",
       "        vertical-align: middle;\n",
       "    }\n",
       "\n",
       "    .dataframe tbody tr th {\n",
       "        vertical-align: top;\n",
       "    }\n",
       "\n",
       "    .dataframe thead th {\n",
       "        text-align: right;\n",
       "    }\n",
       "</style>\n",
       "<table border=\"1\" class=\"dataframe\">\n",
       "  <thead>\n",
       "    <tr style=\"text-align: right;\">\n",
       "      <th></th>\n",
       "      <th>Serial No.</th>\n",
       "      <th>GRE Score</th>\n",
       "      <th>TOEFL Score</th>\n",
       "      <th>University Rating</th>\n",
       "      <th>SOP</th>\n",
       "      <th>LOR</th>\n",
       "      <th>CGPA</th>\n",
       "      <th>Research</th>\n",
       "      <th>Chance of Admit</th>\n",
       "    </tr>\n",
       "  </thead>\n",
       "  <tbody>\n",
       "    <tr>\n",
       "      <th>9</th>\n",
       "      <td>10</td>\n",
       "      <td>323</td>\n",
       "      <td>109.306618</td>\n",
       "      <td>3</td>\n",
       "      <td>3.5</td>\n",
       "      <td>3.0</td>\n",
       "      <td>8.6</td>\n",
       "      <td>0</td>\n",
       "      <td>0.45</td>\n",
       "    </tr>\n",
       "    <tr>\n",
       "      <th>12</th>\n",
       "      <td>13</td>\n",
       "      <td>328</td>\n",
       "      <td>112.535421</td>\n",
       "      <td>4</td>\n",
       "      <td>4.0</td>\n",
       "      <td>4.5</td>\n",
       "      <td>9.1</td>\n",
       "      <td>1</td>\n",
       "      <td>0.78</td>\n",
       "    </tr>\n",
       "    <tr>\n",
       "      <th>27</th>\n",
       "      <td>28</td>\n",
       "      <td>298</td>\n",
       "      <td>97.201767</td>\n",
       "      <td>2</td>\n",
       "      <td>1.5</td>\n",
       "      <td>2.5</td>\n",
       "      <td>7.5</td>\n",
       "      <td>1</td>\n",
       "      <td>0.44</td>\n",
       "    </tr>\n",
       "    <tr>\n",
       "      <th>37</th>\n",
       "      <td>38</td>\n",
       "      <td>300</td>\n",
       "      <td>98.250670</td>\n",
       "      <td>1</td>\n",
       "      <td>1.0</td>\n",
       "      <td>2.0</td>\n",
       "      <td>7.8</td>\n",
       "      <td>0</td>\n",
       "      <td>0.58</td>\n",
       "    </tr>\n",
       "    <tr>\n",
       "      <th>41</th>\n",
       "      <td>42</td>\n",
       "      <td>316</td>\n",
       "      <td>104.840930</td>\n",
       "      <td>2</td>\n",
       "      <td>2.5</td>\n",
       "      <td>2.5</td>\n",
       "      <td>8.2</td>\n",
       "      <td>1</td>\n",
       "      <td>0.49</td>\n",
       "    </tr>\n",
       "  </tbody>\n",
       "</table>\n",
       "</div>"
      ],
      "text/plain": [
       "    Serial No.  GRE Score  TOEFL Score  University Rating  SOP  LOR   CGPA  \\\n",
       "9           10        323   109.306618                  3  3.5   3.0   8.6   \n",
       "12          13        328   112.535421                  4  4.0   4.5   9.1   \n",
       "27          28        298    97.201767                  2  1.5   2.5   7.5   \n",
       "37          38        300    98.250670                  1  1.0   2.0   7.8   \n",
       "41          42        316   104.840930                  2  2.5   2.5   8.2   \n",
       "\n",
       "    Research  Chance of Admit   \n",
       "9          0              0.45  \n",
       "12         1              0.78  \n",
       "27         1              0.44  \n",
       "37         0              0.58  \n",
       "41         1              0.49  "
      ]
     },
     "execution_count": 25,
     "metadata": {},
     "output_type": "execute_result"
    }
   ],
   "source": [
    "#Verifying the null dataset to check if the predicted values are updated \n",
    "print(data_w_null.shape)\n",
    "data_w_null.head()"
   ]
  },
  {
   "cell_type": "markdown",
   "metadata": {},
   "source": [
    "- <span style=\"font-size: 115%;color:#003399\"> .append() method is used to append one data frame to other (vertically) </span>"
   ]
  },
  {
   "cell_type": "code",
   "execution_count": 26,
   "metadata": {},
   "outputs": [
    {
     "name": "stdout",
     "output_type": "stream",
     "text": [
      "(400, 9)\n",
      "Admission_06_28_2020.csv\n",
      "./Admission_06_28_2020.csv\n"
     ]
    }
   ],
   "source": [
    "#appending the null with predicted values data frame with not null data frame\n",
    "\n",
    "data_generated = data_wo_null.append(data_w_null)\n",
    "#shape of newly generated data frame\n",
    "print(data_generated.shape)\n",
    "\n",
    "#Importing the date time\n",
    "from datetime import datetime\n",
    "current_date = datetime.now()\n",
    "\n",
    "#creating the file name\n",
    "file_name = \"Admission_\"+str(current_date.strftime('%m_%d_%Y'))+\".csv\"\n",
    "print(file_name)\n",
    "\n",
    "#creating the file path\n",
    "file_path = \"./\"+file_name\n",
    "print(file_path)\n",
    "\n",
    "#storing the data generated into a csv\n",
    "data_generated.to_csv (file_path, index = False, header = True)"
   ]
  },
  {
   "cell_type": "markdown",
   "metadata": {},
   "source": [
    "## Step 9"
   ]
  },
  {
   "cell_type": "markdown",
   "metadata": {},
   "source": [
    "### <span style=\"color:#003399\"> KNN regression on the newly created data frame (not null data set + NAN data set with predicted values) </span>"
   ]
  },
  {
   "cell_type": "markdown",
   "metadata": {},
   "source": [
    "- <span style=\"font-size: 100%;color:#003399\"> KNeighbourRegressor is machine learning model which we use to predict our taget  value based on the feature data, It belongs to sklearn.model_selection module  </span>\n",
    "\n",
    "- <span style=\"font-size: 100%;color:#003399\">Features : 'GRE Score','TOEFL Score','University Rating','SOP','LOR ','CGPA','Research' </span>\n",
    "- <span style=\"font-size: 100%;color:#003399\"> Target : 'Chance of Admit' </span>\n"
   ]
  },
  {
   "cell_type": "code",
   "execution_count": 27,
   "metadata": {},
   "outputs": [
    {
     "name": "stdout",
     "output_type": "stream",
     "text": [
      "Training set R2_score: 80.97%\n",
      "Test set R2_Score: 67.47\n"
     ]
    }
   ],
   "source": [
    "#Creating the feature and target data frame\n",
    "feature_x = data_generated[['GRE Score','TOEFL Score','University Rating','SOP','LOR ','CGPA','Research']]\n",
    "target_y = data_generated[['Chance of Admit ']]\n",
    "\n",
    "#Splitting the data\n",
    "from sklearn.model_selection import train_test_split\n",
    "\n",
    "Xk_train, Xk_test, yk_train, yk_test = train_test_split(feature_x, target_y)\n",
    "\n",
    "#Building the model without scaling\n",
    "#step 1\n",
    "from sklearn.neighbors import KNeighborsRegressor\n",
    "\n",
    "# Step 2\n",
    "rg = KNeighborsRegressor(n_neighbors=3)\n",
    "\n",
    "# Step 3 fitting data to model\n",
    "rg.fit(Xk_train, yk_train)\n",
    "\n",
    "# Step 4 calculating the accuracy\n",
    "r2_Score_train = rg.score(Xk_train, yk_train)\n",
    "r2_Score_test = rg.score(Xk_test, yk_test)\n",
    "\n",
    "#printing the train and test accuracies\n",
    "print(\"Training set R2_score: {:.2f}\".format(r2_Score_train*100)+\"%\")  \n",
    "print(\"Test set R2_Score: {:.2f}\".format(r2_Score_test*100)+\"\")"
   ]
  },
  {
   "cell_type": "markdown",
   "metadata": {},
   "source": [
    "#### Scaling the data using the StandardScaler"
   ]
  },
  {
   "cell_type": "code",
   "execution_count": 28,
   "metadata": {},
   "outputs": [],
   "source": [
    "#importing the scaler to normalize the data\n",
    "from sklearn.preprocessing import StandardScaler\n",
    "\n",
    "#Creating the scaler object\n",
    "scaler_X = StandardScaler()\n",
    "\n",
    "#Fitting the data into scaler\n",
    "scaler_X.fit(Xk_train)\n",
    "\n",
    "#Transforming the train and test features\n",
    "Xk_scale_train = scaler_X.transform(Xk_train)\n",
    "Xk_scale_test = scaler_X.transform(Xk_test)\n"
   ]
  },
  {
   "cell_type": "code",
   "execution_count": 29,
   "metadata": {},
   "outputs": [
    {
     "name": "stdout",
     "output_type": "stream",
     "text": [
      "Training set R2_score: 85.98%\n",
      "Test set R2_score: 74.49%\n"
     ]
    }
   ],
   "source": [
    "# Step 3 fitting scaled data to model\n",
    "rg.fit(Xk_scale_train, yk_train)\n",
    "\n",
    "# Step 4 calculating r2_Score\n",
    "scaled_r2_score_train = rg.score(Xk_scale_train, yk_train)\n",
    "scaled_r2_score_test = rg.score(Xk_scale_test, yk_test)\n",
    "\n",
    "#printing the train and test accuracies\n",
    "print(\"Training set R2_score: {:.2f}\".format(scaled_r2_score_train*100)+\"%\")  \n",
    "print(\"Test set R2_score: {:.2f}\".format(scaled_r2_score_test*100)+\"%\")"
   ]
  },
  {
   "cell_type": "markdown",
   "metadata": {},
   "source": [
    "## Step 10 "
   ]
  },
  {
   "cell_type": "markdown",
   "metadata": {},
   "source": [
    "### <span style=\"color:#003399\">  KNN regression on the actual dataset </span>\n",
    "- <span style=\"font-size: 100%;color:#003399\">Features : 'GRE Score','TOEFL Score','University Rating','SOP','LOR ','CGPA','Research' </span>\n",
    "- <span style=\"font-size: 100%;color:#003399\"> Target : 'Chance of Admit' </span>"
   ]
  },
  {
   "cell_type": "code",
   "execution_count": 30,
   "metadata": {},
   "outputs": [
    {
     "name": "stdout",
     "output_type": "stream",
     "text": [
      "Training set R2_score: 84.80%\n",
      "Test set R2_score: 60.95%\n"
     ]
    }
   ],
   "source": [
    "#Creating the feature and target data frame from the actual dataset\n",
    "feature_xd = admsn_data[['GRE Score','TOEFL Score','University Rating','SOP','LOR ','CGPA','Research']]\n",
    "target_yd = admsn_data[['Chance of Admit ']]\n",
    "\n",
    "#splitting the dataset\n",
    "from sklearn.model_selection import train_test_split\n",
    "\n",
    "Xd_train, Xd_test, yd_train, yd_test = train_test_split(feature_xd, target_yd)\n",
    "\n",
    "#Building the model without sclaing\n",
    "#step 1\n",
    "from sklearn.neighbors import KNeighborsRegressor\n",
    "\n",
    "# Step 2\n",
    "rg = KNeighborsRegressor(n_neighbors=3)\n",
    "\n",
    "# Step 3\n",
    "rg.fit(Xd_train, yd_train)\n",
    "\n",
    "#finding the train and test accuracies\n",
    "# Step 4\n",
    "r2_score_train_data = rg.score(Xd_train, yd_train)\n",
    "r2_score_test_data = rg.score(Xd_test, yd_test)\n",
    "\n",
    "print(\"Training set R2_score: {:.2f}\".format(r2_score_train_data*100)+\"%\")  \n",
    "print(\"Test set R2_score: {:.2f}\".format(r2_score_test_data*100)+\"%\")"
   ]
  },
  {
   "cell_type": "code",
   "execution_count": 31,
   "metadata": {},
   "outputs": [],
   "source": [
    "#importing the scaler to normalize the data\n",
    "from sklearn.preprocessing import StandardScaler\n",
    "\n",
    "#Creating the scaler object\n",
    "scaler_Xd = StandardScaler()\n",
    "\n",
    "#Fitting the data into scaler\n",
    "scaler_Xd.fit(Xd_train)\n",
    "\n",
    "#Transforming the train and test features\n",
    "Xd_scale_train = scaler_X.transform(Xd_train)\n",
    "Xd_scale_test = scaler_X.transform(Xd_test)"
   ]
  },
  {
   "cell_type": "code",
   "execution_count": 33,
   "metadata": {},
   "outputs": [
    {
     "name": "stdout",
     "output_type": "stream",
     "text": [
      "Training set r2_Score: 85.54%\n",
      "Test set r2_score: 77.42%\n"
     ]
    }
   ],
   "source": [
    "# Step 3 fitting scaled data to model with scaled values\n",
    "rg.fit(Xd_scale_train, yd_train)\n",
    "\n",
    "# Step 4\n",
    "scaled_r2_score_train_d = rg.score(Xd_scale_train, yd_train)\n",
    "scaled_r2_Score_test_d = rg.score(Xd_scale_test, yd_test)\n",
    "\n",
    "#printing the train and test accuracies\n",
    "print(\"Training set r2_Score: {:.2f}\".format(scaled_r2_score_train_d*100)+\"%\")  \n",
    "print(\"Test set r2_score: {:.2f}\".format(scaled_r2_Score_test_d*100)+\"%\")"
   ]
  },
  {
   "cell_type": "markdown",
   "metadata": {},
   "source": [
    "## Step 11"
   ]
  },
  {
   "cell_type": "markdown",
   "metadata": {},
   "source": [
    "### Results\n",
    "### <span style=\"color:#003399\"> The difference between the accuracies of datasets. </span>\n"
   ]
  },
  {
   "cell_type": "markdown",
   "metadata": {},
   "source": [
    "\n",
    "<table {margin-left: 0}>\n",
    "  <thead>\n",
    "    <tr>\n",
    "      <th>Dataset</th>  \n",
    "      <th>Train Accuracies</th>\n",
    "      <th>Test Accuracies</th>\n",
    "    </tr>\n",
    "  </thead>\n",
    "  <tbody>\n",
    "    <tr>\n",
    "      <td>Actual without scaling</td>\n",
    "      <td>84.80%</td>\n",
    "      <td>60.95%</td>\n",
    "    </tr>\n",
    "    <tr>\n",
    "      <td>Generated without scaling</td>\n",
    "      <td>80.97%</td>\n",
    "      <td>67.47%</td>\n",
    "    </tr>\n",
    "    <tr>\n",
    "      <td>Actual with scaling</td>\n",
    "      <td>85.54%</td>\n",
    "      <td>77.42%</td>\n",
    "    </tr>\n",
    "    <tr>\n",
    "      <td>Generated with scaling</td>\n",
    "      <td>85.98%</td>\n",
    "      <td>74.79%</td>\n",
    "    </tr>\n",
    "  </tbody>\n",
    "</table>\n",
    "\n"
   ]
  },
  {
   "cell_type": "markdown",
   "metadata": {},
   "source": [
    "<span style=\"font-size:100%;color:#003399\"> From the above table we can compare the acuracies between the actual and generated dataset for with and without scaling operations</span>\n",
    "    \n",
    "<span style=\"font-size:100%;color:#003399\">We can observe that there is a small difference between the accuracies. </span>"
   ]
  },
  {
   "cell_type": "markdown",
   "metadata": {},
   "source": [
    "- Note: The notebook questions are framed by St. Clair College and this was a part of our Lab for Machine learning for understanding the ML regression concepts and applying it to a real worl scenario."
   ]
  }
 ],
 "metadata": {
  "kernelspec": {
   "display_name": "Python 3",
   "language": "python",
   "name": "python3"
  },
  "language_info": {
   "codemirror_mode": {
    "name": "ipython",
    "version": 3
   },
   "file_extension": ".py",
   "mimetype": "text/x-python",
   "name": "python",
   "nbconvert_exporter": "python",
   "pygments_lexer": "ipython3",
   "version": "3.7.9"
  }
 },
 "nbformat": 4,
 "nbformat_minor": 4
}
